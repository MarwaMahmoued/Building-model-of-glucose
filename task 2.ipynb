{
 "cells": [
  {
   "cell_type": "code",
   "execution_count": 2,
   "id": "37fb602f",
   "metadata": {},
   "outputs": [],
   "source": [
    "import cobra\n",
    "from cobra import Reaction,Model,Metabolite"
   ]
  },
  {
   "cell_type": "code",
   "execution_count": 3,
   "id": "66c4edf7",
   "metadata": {},
   "outputs": [],
   "source": [
    "model=Model('building model')"
   ]
  },
  {
   "cell_type": "code",
   "execution_count": 4,
   "id": "87a8e1a5",
   "metadata": {},
   "outputs": [],
   "source": [
    "#v0=gl enter cell\n",
    "v0=Reaction('v0')\n",
    "v0.name='v0'\n",
    "v0.upper_bound=1\n",
    "v0.lower_bound=1"
   ]
  },
  {
   "cell_type": "code",
   "execution_count": 5,
   "id": "1ff48c12",
   "metadata": {},
   "outputs": [],
   "source": [
    "# gl.......>AA\n",
    "v1=Reaction('v1')\n",
    "v1.name='v1'\n",
    "v1.upper_bound=1000\n",
    "v1.lower_bound=0"
   ]
  },
  {
   "cell_type": "code",
   "execution_count": 6,
   "id": "a9a4145f",
   "metadata": {},
   "outputs": [],
   "source": [
    "# AA.......>BIOMASS\n",
    "v2=Reaction('v2')\n",
    "v2.name='v2'\n",
    "v2.upper_bound=1000\n",
    "v2.lower_bound=0"
   ]
  },
  {
   "cell_type": "code",
   "execution_count": 7,
   "id": "1cf892c4",
   "metadata": {},
   "outputs": [],
   "source": [
    "# BIOMASS......>\n",
    "v3=Reaction('v3')\n",
    "v3.name='v3'\n",
    "v3.upper_bound=1000\n",
    "v3.lower_bound=0"
   ]
  },
  {
   "cell_type": "code",
   "execution_count": 8,
   "id": "d4a6a69d",
   "metadata": {},
   "outputs": [],
   "source": [
    "gl=Metabolite('gl',compartment='c')\n",
    "AA=Metabolite('AA',compartment='c')\n",
    "bio_mass=Metabolite('bio_mass',compartment='c')"
   ]
  },
  {
   "cell_type": "code",
   "execution_count": 9,
   "id": "3be6bb54",
   "metadata": {},
   "outputs": [],
   "source": [
    "v0.add_metabolites({gl:1})\n",
    "v1.add_metabolites({gl:-1,AA:1})\n",
    "v2.add_metabolites({AA:-9.09,bio_mass:1})\n",
    "v3.add_metabolites({bio_mass:-1})"
   ]
  },
  {
   "cell_type": "code",
   "execution_count": 10,
   "id": "b1d370cd",
   "metadata": {},
   "outputs": [],
   "source": [
    "model.add_reactions([v0,v1,v2,v3])"
   ]
  },
  {
   "cell_type": "code",
   "execution_count": 11,
   "id": "7c27baa9",
   "metadata": {},
   "outputs": [],
   "source": [
    "model.objective='v3'\n"
   ]
  },
  {
   "cell_type": "code",
   "execution_count": 12,
   "id": "f5266a05",
   "metadata": {
    "scrolled": true
   },
   "outputs": [
    {
     "data": {
      "text/html": [
       "<strong><em>Optimal</em> solution with objective value 0.110</strong><br><div>\n",
       "<style scoped>\n",
       "    .dataframe tbody tr th:only-of-type {\n",
       "        vertical-align: middle;\n",
       "    }\n",
       "\n",
       "    .dataframe tbody tr th {\n",
       "        vertical-align: top;\n",
       "    }\n",
       "\n",
       "    .dataframe thead th {\n",
       "        text-align: right;\n",
       "    }\n",
       "</style>\n",
       "<table border=\"1\" class=\"dataframe\">\n",
       "  <thead>\n",
       "    <tr style=\"text-align: right;\">\n",
       "      <th></th>\n",
       "      <th>fluxes</th>\n",
       "      <th>reduced_costs</th>\n",
       "    </tr>\n",
       "  </thead>\n",
       "  <tbody>\n",
       "    <tr>\n",
       "      <th>v0</th>\n",
       "      <td>1.000000</td>\n",
       "      <td>0.220022</td>\n",
       "    </tr>\n",
       "    <tr>\n",
       "      <th>v1</th>\n",
       "      <td>1.000000</td>\n",
       "      <td>0.000000</td>\n",
       "    </tr>\n",
       "    <tr>\n",
       "      <th>v2</th>\n",
       "      <td>0.110011</td>\n",
       "      <td>0.000000</td>\n",
       "    </tr>\n",
       "    <tr>\n",
       "      <th>v3</th>\n",
       "      <td>0.110011</td>\n",
       "      <td>0.000000</td>\n",
       "    </tr>\n",
       "  </tbody>\n",
       "</table>\n",
       "</div>"
      ],
      "text/plain": [
       "<Solution 0.110 at 0x291ebd1cd60>"
      ]
     },
     "execution_count": 12,
     "metadata": {},
     "output_type": "execute_result"
    }
   ],
   "source": [
    "model.optimize()"
   ]
  },
  {
   "cell_type": "code",
   "execution_count": 13,
   "id": "ae605225",
   "metadata": {
    "scrolled": true
   },
   "outputs": [
    {
     "data": {
      "text/html": [
       "<h3>Objective</h3><p>1.0 v3 = 0.11001100110011001</p><h4>Uptake</h4><table border=\"1\" class=\"dataframe\">\n",
       "  <thead>\n",
       "    <tr style=\"text-align: right;\">\n",
       "      <th>Metabolite</th>\n",
       "      <th>Reaction</th>\n",
       "      <th>Flux</th>\n",
       "      <th>C-Number</th>\n",
       "      <th>C-Flux</th>\n",
       "    </tr>\n",
       "  </thead>\n",
       "  <tbody>\n",
       "    <tr>\n",
       "      <td>gl</td>\n",
       "      <td>v0</td>\n",
       "      <td>1</td>\n",
       "      <td>0</td>\n",
       "      <td>0.00%</td>\n",
       "    </tr>\n",
       "  </tbody>\n",
       "</table><h4>Secretion</h4><table border=\"1\" class=\"dataframe\">\n",
       "  <thead>\n",
       "    <tr style=\"text-align: right;\">\n",
       "      <th>Metabolite</th>\n",
       "      <th>Reaction</th>\n",
       "      <th>Flux</th>\n",
       "      <th>C-Number</th>\n",
       "      <th>C-Flux</th>\n",
       "    </tr>\n",
       "  </thead>\n",
       "  <tbody>\n",
       "    <tr>\n",
       "      <td>bio_mass</td>\n",
       "      <td>v3</td>\n",
       "      <td>-0.11</td>\n",
       "      <td>0</td>\n",
       "      <td>0.00%</td>\n",
       "    </tr>\n",
       "  </tbody>\n",
       "</table>"
      ],
      "text/plain": [
       "<cobra.summary.model_summary.ModelSummary at 0x291ebd4d070>"
      ]
     },
     "execution_count": 13,
     "metadata": {},
     "output_type": "execute_result"
    }
   ],
   "source": [
    "model.summary()"
   ]
  },
  {
   "cell_type": "code",
   "execution_count": null,
   "id": "5396a089",
   "metadata": {},
   "outputs": [],
   "source": []
  }
 ],
 "metadata": {
  "kernelspec": {
   "display_name": "Python 3 (ipykernel)",
   "language": "python",
   "name": "python3"
  },
  "language_info": {
   "codemirror_mode": {
    "name": "ipython",
    "version": 3
   },
   "file_extension": ".py",
   "mimetype": "text/x-python",
   "name": "python",
   "nbconvert_exporter": "python",
   "pygments_lexer": "ipython3",
   "version": "3.9.7"
  }
 },
 "nbformat": 4,
 "nbformat_minor": 5
}
